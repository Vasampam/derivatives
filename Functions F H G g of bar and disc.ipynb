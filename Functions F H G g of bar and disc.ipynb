{
 "cells": [
  {
   "cell_type": "code",
   "execution_count": 1,
   "id": "2b8d7a29",
   "metadata": {},
   "outputs": [],
   "source": [
    "import numpy as np\n",
    "import scipy as sp\n",
    "import matplotlib.pyplot as plt\n",
    "import sympy as smp"
   ]
  },
  {
   "cell_type": "code",
   "execution_count": null,
   "id": "4898fdd9",
   "metadata": {},
   "outputs": [],
   "source": []
  },
  {
   "cell_type": "code",
   "execution_count": 2,
   "id": "de081284",
   "metadata": {},
   "outputs": [
    {
     "data": {
      "text/plain": [
       "<function __main__.F_x(x, y, z, x_m, y_1, y_2, z_k, num, den)>"
      ]
     },
     "execution_count": 2,
     "metadata": {},
     "output_type": "execute_result"
    }
   ],
   "source": [
    "def F_x(x,y,z,x_m,y_1,y_2,z_k,num,den):\n",
    "    num = (y-y_1) + np.sqrt((x-x_m)**2 + (y-y_1)**2 + (z-z_k)**2)\n",
    "    den = (y-y_2) + np.sqrt((x-x_m)**2 + (y-y_2)**2 + (z-z_k)**2)\n",
    "    return (num/den)\n",
    "F_x"
   ]
  },
  {
   "cell_type": "code",
   "execution_count": null,
   "id": "aeb47eca",
   "metadata": {},
   "outputs": [],
   "source": []
  },
  {
   "cell_type": "code",
   "execution_count": 3,
   "id": "d50936f3",
   "metadata": {},
   "outputs": [
    {
     "data": {
      "text/plain": [
       "<function __main__.H_y(x, y, z, x_1, x_2, y_m, z_k, num, den)>"
      ]
     },
     "execution_count": 3,
     "metadata": {},
     "output_type": "execute_result"
    }
   ],
   "source": [
    "def H_y(x,y,z,x_1,x_2,y_m,z_k,num,den):\n",
    "    num = (x-x_1) + np.sqrt((x-x_1)**2 + (y-y_m)**2 + (z-z_k)**2)\n",
    "    den = (x-x_2) + np.sqrt((x-x_2)**2 + (y-y_m)**2 + (z-z_k)**2)\n",
    "    return (num/den)\n",
    "H_y"
   ]
  },
  {
   "cell_type": "code",
   "execution_count": 4,
   "id": "43d414ca",
   "metadata": {},
   "outputs": [
    {
     "data": {
      "text/plain": [
       "<function __main__.G_z(x, y, z, x_n, y_m, z_k)>"
      ]
     },
     "execution_count": 4,
     "metadata": {},
     "output_type": "execute_result"
    }
   ],
   "source": [
    "def G_z(x,y,z,x_n,y_m,z_k):\n",
    "    return 1 / np.sqrt((x-x_n)**2 + (y-y_m)**2 + (z-z_k)**2)\n",
    "G_z"
   ]
  },
  {
   "cell_type": "code",
   "execution_count": null,
   "id": "efb4a75e",
   "metadata": {},
   "outputs": [],
   "source": []
  },
  {
   "cell_type": "code",
   "execution_count": 5,
   "id": "b065b008",
   "metadata": {},
   "outputs": [
    {
     "data": {
      "text/plain": [
       "<function __main__.g(r, phi, z, ri, phii, zi)>"
      ]
     },
     "execution_count": 5,
     "metadata": {},
     "output_type": "execute_result"
    }
   ],
   "source": [
    "def g(r,phi,z,ri,phii,zi):\n",
    "    return 1 / np.sqrt(r**2 + ri**2 - 2*r*ri*np.cos(phi-phii) + (z-zi)**2 )\n",
    "g"
   ]
  },
  {
   "cell_type": "code",
   "execution_count": null,
   "id": "d8af4ab0",
   "metadata": {},
   "outputs": [],
   "source": []
  },
  {
   "cell_type": "code",
   "execution_count": null,
   "id": "dc22a795",
   "metadata": {},
   "outputs": [],
   "source": []
  },
  {
   "cell_type": "code",
   "execution_count": null,
   "id": "de2494d4",
   "metadata": {},
   "outputs": [],
   "source": []
  }
 ],
 "metadata": {
  "kernelspec": {
   "display_name": "Python 3 (ipykernel)",
   "language": "python",
   "name": "python3"
  },
  "language_info": {
   "codemirror_mode": {
    "name": "ipython",
    "version": 3
   },
   "file_extension": ".py",
   "mimetype": "text/x-python",
   "name": "python",
   "nbconvert_exporter": "python",
   "pygments_lexer": "ipython3",
   "version": "3.8.20"
  }
 },
 "nbformat": 4,
 "nbformat_minor": 5
}
