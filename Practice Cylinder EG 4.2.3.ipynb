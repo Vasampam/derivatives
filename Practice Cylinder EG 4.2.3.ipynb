{
 "cells": [
  {
   "cell_type": "code",
   "execution_count": 2,
   "id": "72718e06",
   "metadata": {},
   "outputs": [],
   "source": [
    "import numpy as np\n",
    "import scipy as sp\n",
    "import sympy as smp\n",
    "import matplotlib.pyplot as plt\n",
    "from scipy.integrate import dblquad"
   ]
  },
  {
   "cell_type": "code",
   "execution_count": 7,
   "id": "a4bbe014",
   "metadata": {},
   "outputs": [
    {
     "data": {
      "text/latex": [
       "$\\displaystyle \\frac{M_{s} \\mu_{o}}{4 \\pi}$"
      ],
      "text/plain": [
       "M_s*mu_o/(4*pi)"
      ]
     },
     "execution_count": 7,
     "metadata": {},
     "output_type": "execute_result"
    }
   ],
   "source": [
    "mu, M, z, zi, r, ri, R, phi, phii, Br, Bp, Bz = smp.symbols('mu_o M_s z z\\' r r\\' R phi phi\\' B_r B_phi B_z', real =True)\n",
    "f = mu * M / (4*smp.pi)\n",
    "f"
   ]
  },
  {
   "cell_type": "code",
   "execution_count": 9,
   "id": "978a9b95",
   "metadata": {},
   "outputs": [
    {
     "data": {
      "text/latex": [
       "$\\displaystyle \\frac{1}{\\sqrt{r^{2} - 2 r r' \\cos{\\left(\\phi - phi' \\right)} + r'^{2} + \\left(z - z'\\right)^{2}}}$"
      ],
      "text/plain": [
       "1/sqrt(r**2 - 2*r*r'*cos(phi - phi') + r'**2 + (z - z')**2)"
      ]
     },
     "execution_count": 9,
     "metadata": {},
     "output_type": "execute_result"
    }
   ],
   "source": [
    "r, ri, phi, phii, z, zi = smp.symbols('r r\\' phi phi\\' z z\\'', real = True)\n",
    "g = 1 / smp.sqrt( r**2 + ri**2 - 2*r*ri*smp.cos(phi-phii) + (z-zi)**2 )\n",
    "g\n"
   ]
  },
  {
   "cell_type": "code",
   "execution_count": 6,
   "id": "ba4251e5",
   "metadata": {},
   "outputs": [],
   "source": [
    "############ Radial component ###########"
   ]
  },
  {
   "cell_type": "code",
   "execution_count": 7,
   "id": "47a9772b",
   "metadata": {},
   "outputs": [],
   "source": [
    "# Parameters\n",
    "r = 3.8                    # Radius of observation pt\n",
    "ri = 2.54                  # Radius of source pt\n",
    "L = 50                     # Total Height\n",
    "z = -25                    # Z dist of observatin pt \n",
    "zi = 25                    # Z dist of source pt\n",
    "M = 4.3 * 10**5            # Magnetisation A/m\n",
    "mu = 4 * 10**-7            # Permeability H/m\n"
   ]
  },
  {
   "cell_type": "code",
   "execution_count": 8,
   "id": "dc4ff85c",
   "metadata": {},
   "outputs": [],
   "source": [
    "# Function of g\n",
    "def g(r,phi,z,ri,phii,zi):\n",
    "    return 1 / np.sqrt(r**2 + ri**2 - 2*r*ri*np.cos(phi-phii) + (z-zi)**2 )"
   ]
  },
  {
   "cell_type": "code",
   "execution_count": 9,
   "id": "cd14f4e8",
   "metadata": {},
   "outputs": [],
   "source": [
    "# Main integrand function\n",
    "def integrand(r,phi,z,ri,phii,zi):\n",
    "    return np.cos(phii) * (r-ri * np.cos(phi-phii)) * g(r,phi,z,ri,phii,zi) ** 3"
   ]
  },
  {
   "cell_type": "code",
   "execution_count": 13,
   "id": "c6317a0d",
   "metadata": {
    "scrolled": true
   },
   "outputs": [
    {
     "data": {
      "text/plain": [
       "4.115896949773676"
      ]
     },
     "execution_count": 13,
     "metadata": {},
     "output_type": "execute_result"
    }
   ],
   "source": [
    "# Integration using dblquad\n",
    "\n",
    "result, error = dblquad(integrand,z,zi,\n",
    "                       lambda z:0,\n",
    "                       lambda zi:2*np.pi,\n",
    "                       args =(r,ri,0,0) )\n",
    "result\n",
    "#error\n"
   ]
  },
  {
   "cell_type": "raw",
   "id": "7042bbad",
   "metadata": {},
   "source": []
  },
  {
   "cell_type": "code",
   "execution_count": 14,
   "id": "7e08e584",
   "metadata": {},
   "outputs": [
    {
     "name": "stdout",
     "output_type": "stream",
     "text": [
      "Observed magnetic field in radial component is : 0.1430924739210249 Teslas\n"
     ]
    }
   ],
   "source": [
    "B_r = mu * M * ri / (4*np.pi) * result\n",
    "\n",
    "print(f'Observed magnetic field in radial component is : {B_r} Teslas')"
   ]
  },
  {
   "cell_type": "code",
   "execution_count": null,
   "id": "fe40a658",
   "metadata": {},
   "outputs": [],
   "source": [
    "############## Azimuthal component #############"
   ]
  },
  {
   "cell_type": "code",
   "execution_count": 31,
   "id": "cfa1591b",
   "metadata": {},
   "outputs": [],
   "source": [
    "# Main integrand function\n",
    "def integrandA(r,phi,z,ri,phii,zi):\n",
    "    return np.cos(phii) * (np.sin(phi-phii)) * g(r,phi,z,ri,phii,zi) ** 3"
   ]
  },
  {
   "cell_type": "code",
   "execution_count": 32,
   "id": "56eee768",
   "metadata": {},
   "outputs": [
    {
     "data": {
      "text/plain": [
       "0.008470247606078174"
      ]
     },
     "execution_count": 32,
     "metadata": {},
     "output_type": "execute_result"
    }
   ],
   "source": [
    "# Integration using dblquad\n",
    "\n",
    "result, error = dblquad(integrandA, z,zi,\n",
    "                       lambda z:0,\n",
    "                       lambda zi:2*np.pi,\n",
    "                       args = (r,ri,3.8,2.54))\n",
    "result"
   ]
  },
  {
   "cell_type": "code",
   "execution_count": 33,
   "id": "01b4a724",
   "metadata": {},
   "outputs": [
    {
     "name": "stdout",
     "output_type": "stream",
     "text": [
      "The obtained B field of Azimuthal Component is 0.0007479664570440202 Teslas\n"
     ]
    }
   ],
   "source": [
    "B_phi = mu * M * ri **2 / (4*np.pi) * result\n",
    "print(f'The obtained B field of Azimuthal Component is {B_phi} Teslas')"
   ]
  },
  {
   "cell_type": "code",
   "execution_count": null,
   "id": "6e694a26",
   "metadata": {},
   "outputs": [],
   "source": [
    "############## Axial component ###############"
   ]
  },
  {
   "cell_type": "code",
   "execution_count": 37,
   "id": "e78713bc",
   "metadata": {},
   "outputs": [],
   "source": [
    "# Main integrand function\n",
    "def integrandAX(r,phi,z,ri,phii,zi):\n",
    "    return np.cos(phii) * (z-zi) * g(r,phi,z,ri,phii,zi) ** 3 "
   ]
  },
  {
   "cell_type": "code",
   "execution_count": 38,
   "id": "5fc54edb",
   "metadata": {},
   "outputs": [
    {
     "data": {
      "text/plain": [
       "8.809204470512789"
      ]
     },
     "execution_count": 38,
     "metadata": {},
     "output_type": "execute_result"
    }
   ],
   "source": [
    "# Integration using dblquad\n",
    "\n",
    "result, error = dblquad(integrandAX, z, zi,\n",
    "                       lambda z: 0,\n",
    "                       lambda zi:2*np.pi,\n",
    "                       args =(r,ri,0,0) )\n",
    "result"
   ]
  },
  {
   "cell_type": "code",
   "execution_count": 39,
   "id": "6b71fd41",
   "metadata": {},
   "outputs": [
    {
     "name": "stdout",
     "output_type": "stream",
     "text": [
      "The observed B field in Axial Component is 0.30625909160119785 Teslas\n"
     ]
    }
   ],
   "source": [
    "B_z = mu * M * ri / (4*np.pi) * result\n",
    "print(f'The observed B field in Axial Component is {B_z} Teslas')"
   ]
  },
  {
   "cell_type": "code",
   "execution_count": null,
   "id": "3ba04302",
   "metadata": {},
   "outputs": [],
   "source": []
  }
 ],
 "metadata": {
  "kernelspec": {
   "display_name": "Python 3 (ipykernel)",
   "language": "python",
   "name": "python3"
  },
  "language_info": {
   "codemirror_mode": {
    "name": "ipython",
    "version": 3
   },
   "file_extension": ".py",
   "mimetype": "text/x-python",
   "name": "python",
   "nbconvert_exporter": "python",
   "pygments_lexer": "ipython3",
   "version": "3.8.20"
  }
 },
 "nbformat": 4,
 "nbformat_minor": 5
}
